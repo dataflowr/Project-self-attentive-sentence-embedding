{
 "cells": [
  {
   "cell_type": "markdown",
   "metadata": {
    "colab_type": "text",
    "id": "view-in-github"
   },
   "source": [
    "<a href=\"https://colab.research.google.com/github/dataflowr/self-attentive-sentence-embedding/blob/master/glove_tensors.ipynb\" target=\"_parent\"><img src=\"https://colab.research.google.com/assets/colab-badge.svg\" alt=\"Open In Colab\"/></a>"
   ]
  },
  {
   "cell_type": "code",
   "execution_count": 4,
   "metadata": {
    "id": "AEqTXT2FNCBZ"
   },
   "outputs": [],
   "source": [
    "import torch\n",
    "from torchtext import data\n",
    "from torchtext import vocab"
   ]
  },
  {
   "cell_type": "code",
   "execution_count": 5,
   "metadata": {
    "colab": {
     "base_uri": "https://localhost:8080/"
    },
    "id": "CR8nO8CESvMq",
    "outputId": "a39d9b64-955d-4bb0-9146-4fc8efa8555d"
   },
   "outputs": [
    {
     "name": "stdout",
     "output_type": "stream",
     "text": [
      "--2021-02-24 00:06:38--  https://www.di.ens.fr/~lelarge/glove.6B.200d.txt\n",
      "Resolving www.di.ens.fr (www.di.ens.fr)... 129.199.99.14\n",
      "Connecting to www.di.ens.fr (www.di.ens.fr)|129.199.99.14|:443... connected.\n",
      "HTTP request sent, awaiting response... 200 OK\n",
      "Length: unspecified [text/plain]\n",
      "Saving to: ‘glove.6B.200d.txt’\n",
      "\n",
      "    [                            <=>        ] 693,432,828 78.9MB/s   in 8.6s   \n",
      "\n",
      "2021-02-24 00:06:47 (76.8 MB/s) - ‘glove.6B.200d.txt’ saved [693432828]\n",
      "\n"
     ]
    }
   ],
   "source": [
    "!wget https://www.di.ens.fr/~lelarge/glove.6B.200d.txt"
   ]
  },
  {
   "cell_type": "markdown",
   "metadata": {
    "id": "YW63rtjGq7my"
   },
   "source": [
    "The following command creates a `*.pt` file containing the word embedding as PyTorch tensors."
   ]
  },
  {
   "cell_type": "code",
   "execution_count": 8,
   "metadata": {
    "id": "4gbRnEV2Nd6Y"
   },
   "outputs": [
    {
     "name": "stderr",
     "output_type": "stream",
     "text": [
      "100%|█████████▉| 399999/400000 [00:17<00:00, 22498.11it/s]\n"
     ]
    }
   ],
   "source": [
    "vec = vocab.Vectors('glove.6B.200d.txt', 'content/')"
   ]
  },
  {
   "cell_type": "code",
   "execution_count": 9,
   "metadata": {
    "colab": {
     "base_uri": "https://localhost:8080/"
    },
    "id": "uRzGvBtcsGb6",
    "outputId": "517608d8-1911-450b-dc6c-756969c35ae6"
   },
   "outputs": [
    {
     "data": {
      "text/plain": [
       "tensor([-0.8895,  0.3837, -0.4151, -0.2463,  0.4672,  0.0664, -0.6994, -0.1173,\n",
       "        -0.4261,  0.2914, -0.7443,  0.0823,  0.3543,  0.2255,  0.2891, -1.1328,\n",
       "         0.1565, -0.5776,  0.4223,  0.0859, -0.4770,  1.6182, -0.1577, -0.3881,\n",
       "        -0.4437,  0.4469, -0.4452,  0.2794,  0.1613, -0.5872,  0.0194, -0.1276,\n",
       "         0.1651,  0.0704,  0.2154, -0.6298,  0.7764, -0.3716, -1.3091,  0.4474,\n",
       "         0.0768, -0.1496,  0.3667, -0.1016, -0.0508,  0.3152,  1.1144, -0.4054,\n",
       "        -0.2303,  0.4469, -0.7003,  0.0387, -0.2517,  0.3383, -0.2848, -0.0964,\n",
       "        -0.9566,  0.3749, -0.1621, -0.3269,  0.2897,  0.1266,  0.0135, -0.0924,\n",
       "        -0.2433, -0.1841, -1.5021, -0.7440,  0.2111,  0.2999,  0.8626,  0.1545,\n",
       "         0.1148,  0.5078, -0.8292,  0.9645, -0.2157, -0.3068, -0.6073,  0.5618,\n",
       "        -0.3360, -0.5705, -0.1384, -0.1930, -0.5163,  0.1231, -0.3679, -0.3506,\n",
       "         0.1518, -0.6576,  0.1721,  0.2201, -0.0586,  0.7515,  0.8616, -0.1975,\n",
       "         0.3292,  0.4507,  0.4739,  0.1132,  1.0492, -0.3936, -0.3598,  0.4575,\n",
       "         0.0207,  0.8416, -0.3871,  0.3403, -0.4529, -0.1209,  0.4148,  0.1988,\n",
       "        -0.8881, -0.4373,  0.2288, -0.1176,  0.3259, -0.2852, -0.2848,  0.1764,\n",
       "         0.0122,  0.1401,  0.3604, -0.0673,  0.0568, -0.1190, -0.0916,  0.2636,\n",
       "        -0.3909,  0.6076, -1.0516,  0.0251,  0.1661,  0.4634, -0.4625, -0.0235,\n",
       "        -0.4303,  0.5359, -0.2038,  0.4972,  0.3152, -0.1749, -0.3827, -0.0263,\n",
       "         0.6549, -0.6034,  0.1413, -0.5084,  0.7315,  0.7230,  0.5758,  0.1984,\n",
       "         0.5970, -0.2093,  0.1661,  0.6681,  0.0534,  0.7093,  0.0127, -0.9134,\n",
       "         0.1553, -0.0231, -0.0528,  0.2207, -0.9297,  0.4509, -0.1403, -0.0224,\n",
       "         0.3840, -0.0230, -0.0202, -0.6546, -0.6091, -0.0865,  0.2403,  0.6116,\n",
       "         0.0783, -0.4435,  0.3334,  0.9427,  0.8469,  0.3862,  0.6558,  0.7101,\n",
       "         0.5610, -0.7739, -0.1841, -0.2965,  0.4312,  0.6218, -0.1292,  0.1709,\n",
       "        -0.5155,  0.2054,  0.0048, -0.5722, -0.3660,  0.1494,  0.6081, -0.3649])"
      ]
     },
     "execution_count": 9,
     "metadata": {},
     "output_type": "execute_result"
    }
   ],
   "source": [
    "vec['chip']"
   ]
  },
  {
   "cell_type": "code",
   "execution_count": 10,
   "metadata": {
    "id": "v4Xfwxi6N0Dt"
   },
   "outputs": [],
   "source": [
    "vectors = torch.load('content/glove.6B.200d.txt.pt')"
   ]
  },
  {
   "cell_type": "code",
   "execution_count": 11,
   "metadata": {
    "colab": {
     "base_uri": "https://localhost:8080/"
    },
    "id": "pCo7W3DBUQgE",
    "outputId": "8c99ad6d-860b-4b6e-f1df-1107322a64ca"
   },
   "outputs": [
    {
     "data": {
      "text/plain": [
       "4"
      ]
     },
     "execution_count": 11,
     "metadata": {},
     "output_type": "execute_result"
    }
   ],
   "source": [
    "len(vectors)"
   ]
  },
  {
   "cell_type": "code",
   "execution_count": 12,
   "metadata": {
    "colab": {
     "base_uri": "https://localhost:8080/"
    },
    "id": "lk_-hiGhUfRw",
    "outputId": "909a2176-f371-4006-ed08-bdacbbae60f8"
   },
   "outputs": [
    {
     "data": {
      "text/plain": [
       "['the', ',', '.', 'of', 'to', 'and', 'in', 'a', '\"', \"'s\"]"
      ]
     },
     "execution_count": 12,
     "metadata": {},
     "output_type": "execute_result"
    }
   ],
   "source": [
    "vectors[0][:10]"
   ]
  },
  {
   "cell_type": "code",
   "execution_count": 13,
   "metadata": {
    "colab": {
     "base_uri": "https://localhost:8080/"
    },
    "id": "WSAoolGtYR_X",
    "outputId": "73a463ce-8573-4c36-f584-b966f3ce0555"
   },
   "outputs": [
    {
     "data": {
      "text/plain": [
       "0"
      ]
     },
     "execution_count": 13,
     "metadata": {},
     "output_type": "execute_result"
    }
   ],
   "source": [
    "vectors[1]['the']"
   ]
  },
  {
   "cell_type": "code",
   "execution_count": 14,
   "metadata": {
    "colab": {
     "base_uri": "https://localhost:8080/"
    },
    "id": "7XTh418VYkhx",
    "outputId": "989a8124-15ec-4ad1-acb3-6cc1641fd329"
   },
   "outputs": [
    {
     "data": {
      "text/plain": [
       "3860"
      ]
     },
     "execution_count": 14,
     "metadata": {},
     "output_type": "execute_result"
    }
   ],
   "source": [
    "vectors[1]['chip']"
   ]
  },
  {
   "cell_type": "code",
   "execution_count": 15,
   "metadata": {
    "colab": {
     "base_uri": "https://localhost:8080/"
    },
    "id": "BII48qjpUgfk",
    "outputId": "9183a7fe-5843-4112-92fd-1661206b3a4c"
   },
   "outputs": [
    {
     "data": {
      "text/plain": [
       "torch.Size([400000, 200])"
      ]
     },
     "execution_count": 15,
     "metadata": {},
     "output_type": "execute_result"
    }
   ],
   "source": [
    "vectors[2].shape"
   ]
  },
  {
   "cell_type": "code",
   "execution_count": 16,
   "metadata": {
    "colab": {
     "base_uri": "https://localhost:8080/"
    },
    "id": "kaetb0lhspzQ",
    "outputId": "0d168236-633e-4463-b922-fbc5882ab718"
   },
   "outputs": [
    {
     "data": {
      "text/plain": [
       "tensor([-0.8895,  0.3837, -0.4151, -0.2463,  0.4672,  0.0664, -0.6994, -0.1173,\n",
       "        -0.4261,  0.2914, -0.7443,  0.0823,  0.3543,  0.2255,  0.2891, -1.1328,\n",
       "         0.1565, -0.5776,  0.4223,  0.0859, -0.4770,  1.6182, -0.1577, -0.3881,\n",
       "        -0.4437,  0.4469, -0.4452,  0.2794,  0.1613, -0.5872,  0.0194, -0.1276,\n",
       "         0.1651,  0.0704,  0.2154, -0.6298,  0.7764, -0.3716, -1.3091,  0.4474,\n",
       "         0.0768, -0.1496,  0.3667, -0.1016, -0.0508,  0.3152,  1.1144, -0.4054,\n",
       "        -0.2303,  0.4469, -0.7003,  0.0387, -0.2517,  0.3383, -0.2848, -0.0964,\n",
       "        -0.9566,  0.3749, -0.1621, -0.3269,  0.2897,  0.1266,  0.0135, -0.0924,\n",
       "        -0.2433, -0.1841, -1.5021, -0.7440,  0.2111,  0.2999,  0.8626,  0.1545,\n",
       "         0.1148,  0.5078, -0.8292,  0.9645, -0.2157, -0.3068, -0.6073,  0.5618,\n",
       "        -0.3360, -0.5705, -0.1384, -0.1930, -0.5163,  0.1231, -0.3679, -0.3506,\n",
       "         0.1518, -0.6576,  0.1721,  0.2201, -0.0586,  0.7515,  0.8616, -0.1975,\n",
       "         0.3292,  0.4507,  0.4739,  0.1132,  1.0492, -0.3936, -0.3598,  0.4575,\n",
       "         0.0207,  0.8416, -0.3871,  0.3403, -0.4529, -0.1209,  0.4148,  0.1988,\n",
       "        -0.8881, -0.4373,  0.2288, -0.1176,  0.3259, -0.2852, -0.2848,  0.1764,\n",
       "         0.0122,  0.1401,  0.3604, -0.0673,  0.0568, -0.1190, -0.0916,  0.2636,\n",
       "        -0.3909,  0.6076, -1.0516,  0.0251,  0.1661,  0.4634, -0.4625, -0.0235,\n",
       "        -0.4303,  0.5359, -0.2038,  0.4972,  0.3152, -0.1749, -0.3827, -0.0263,\n",
       "         0.6549, -0.6034,  0.1413, -0.5084,  0.7315,  0.7230,  0.5758,  0.1984,\n",
       "         0.5970, -0.2093,  0.1661,  0.6681,  0.0534,  0.7093,  0.0127, -0.9134,\n",
       "         0.1553, -0.0231, -0.0528,  0.2207, -0.9297,  0.4509, -0.1403, -0.0224,\n",
       "         0.3840, -0.0230, -0.0202, -0.6546, -0.6091, -0.0865,  0.2403,  0.6116,\n",
       "         0.0783, -0.4435,  0.3334,  0.9427,  0.8469,  0.3862,  0.6558,  0.7101,\n",
       "         0.5610, -0.7739, -0.1841, -0.2965,  0.4312,  0.6218, -0.1292,  0.1709,\n",
       "        -0.5155,  0.2054,  0.0048, -0.5722, -0.3660,  0.1494,  0.6081, -0.3649])"
      ]
     },
     "execution_count": 16,
     "metadata": {},
     "output_type": "execute_result"
    }
   ],
   "source": [
    "vectors[2][vectors[1]['chip']]"
   ]
  },
  {
   "cell_type": "code",
   "execution_count": 17,
   "metadata": {
    "colab": {
     "base_uri": "https://localhost:8080/"
    },
    "id": "vCgtupmMUpK6",
    "outputId": "b564038b-55e7-4a72-ca2e-f6c159180ff8"
   },
   "outputs": [
    {
     "data": {
      "text/plain": [
       "200"
      ]
     },
     "execution_count": 17,
     "metadata": {},
     "output_type": "execute_result"
    }
   ],
   "source": [
    "vectors[3]"
   ]
  },
  {
   "cell_type": "code",
   "execution_count": 12,
   "metadata": {
    "id": "U-OTSkwxYo45"
   },
   "outputs": [],
   "source": []
  }
 ],
 "metadata": {
  "colab": {
   "authorship_tag": "ABX9TyPNqJiBGRZgFp8LUZOCJ34z",
   "include_colab_link": true,
   "name": "glove_tensors.ipynb",
   "provenance": []
  },
  "kernelspec": {
   "display_name": "Python 3",
   "language": "python",
   "name": "python3"
  },
  "language_info": {
   "codemirror_mode": {
    "name": "ipython",
    "version": 3
   },
   "file_extension": ".py",
   "mimetype": "text/x-python",
   "name": "python",
   "nbconvert_exporter": "python",
   "pygments_lexer": "ipython3",
   "version": "3.8.5"
  }
 },
 "nbformat": 4,
 "nbformat_minor": 1
}
