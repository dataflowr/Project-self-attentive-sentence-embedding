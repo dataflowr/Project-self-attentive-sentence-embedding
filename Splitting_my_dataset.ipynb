{
 "cells": [
  {
   "cell_type": "code",
   "execution_count": 4,
   "metadata": {
    "colab": {
     "base_uri": "https://localhost:8080/"
    },
    "executionInfo": {
     "elapsed": 1983,
     "status": "ok",
     "timestamp": 1615196388358,
     "user": {
      "displayName": "Ines Multrier",
      "photoUrl": "",
      "userId": "12390148191936656114"
     },
     "user_tz": -60
    },
    "id": "IVEnHK9d157i",
    "outputId": "a023ff36-2c70-4b12-c507-51917d7d1e8d"
   },
   "outputs": [],
   "source": [
    "# Useful imports\n",
    "import json\n",
    "import pandas as pd\n",
    "import os\n",
    "import numpy as np\n",
    "import string\n",
    "from sklearn.model_selection import train_test_split"
   ]
  },
  {
   "cell_type": "code",
   "execution_count": 20,
   "metadata": {
    "id": "3rzHF7KJ3qUV"
   },
   "outputs": [
    {
     "data": {
      "text/plain": [
       "177"
      ]
     },
     "execution_count": 20,
     "metadata": {},
     "output_type": "execute_result"
    }
   ],
   "source": [
    "f = open('big/x000.json','r')\n",
    "guestData = f.readlines()\n",
    "len(json.loads(guestData[3])['text'])\n",
    "#train, test = train_test_split(guestData, test_size=0.4) "
   ]
  },
  {
   "cell_type": "code",
   "execution_count": 22,
   "metadata": {},
   "outputs": [
    {
     "data": {
      "text/plain": [
       "188"
      ]
     },
     "execution_count": 22,
     "metadata": {},
     "output_type": "execute_result"
    }
   ],
   "source": [
    "len(json.loads(guestData[100])['text'])"
   ]
  }
 ],
 "metadata": {
  "colab": {
   "authorship_tag": "ABX9TyNx6vt7CyGK/Ra+2/T/dLty",
   "machine_shape": "hm",
   "name": "Splitting my dataset.ipynb",
   "provenance": []
  },
  "kernelspec": {
   "display_name": "Python 3",
   "language": "python",
   "name": "python3"
  },
  "language_info": {
   "codemirror_mode": {
    "name": "ipython",
    "version": 3
   },
   "file_extension": ".py",
   "mimetype": "text/x-python",
   "name": "python",
   "nbconvert_exporter": "python",
   "pygments_lexer": "ipython3",
   "version": "3.8.8"
  }
 },
 "nbformat": 4,
 "nbformat_minor": 4
}
