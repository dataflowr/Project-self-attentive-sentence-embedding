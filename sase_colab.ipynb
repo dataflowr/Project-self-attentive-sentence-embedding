{
 "cells": [
  {
   "cell_type": "markdown",
   "metadata": {
    "colab_type": "text",
    "id": "view-in-github"
   },
   "source": [
    "<a href=\"https://colab.research.google.com/github/dataflowr/self-attentive-sentence-embedding/blob/master/sase_colab.ipynb\" target=\"_parent\"><img src=\"https://colab.research.google.com/assets/colab-badge.svg\" alt=\"Open In Colab\"/></a>"
   ]
  },
  {
   "cell_type": "code",
   "execution_count": 1,
   "metadata": {
    "colab": {
     "base_uri": "https://localhost:8080/"
    },
    "id": "DV76abP-ase3",
    "outputId": "af10020e-b872-41fe-d60f-5023473e7825"
   },
   "outputs": [
    {
     "name": "stdout",
     "output_type": "stream",
     "text": [
      "--2021-02-23 23:48:27--  https://www.di.ens.fr/~lelarge/small_yelp.zip\n",
      "Resolving www.di.ens.fr (www.di.ens.fr)... 129.199.99.14\n",
      "Connecting to www.di.ens.fr (www.di.ens.fr)|129.199.99.14|:443... connected.\n",
      "HTTP request sent, awaiting response... 200 OK\n",
      "Length: unspecified [application/zip]\n",
      "Saving to: ‘small_yelp.zip’\n",
      "\n",
      "    [  <=>                                  ] 8,533,237   23.9MB/s   in 0.3s   \n",
      "\n",
      "2021-02-23 23:48:28 (23.9 MB/s) - ‘small_yelp.zip’ saved [8533237]\n",
      "\n"
     ]
    }
   ],
   "source": [
    "!wget https://www.di.ens.fr/~lelarge/small_yelp.zip"
   ]
  },
  {
   "cell_type": "code",
   "execution_count": 2,
   "metadata": {
    "colab": {
     "base_uri": "https://localhost:8080/"
    },
    "id": "Hp-XPRlObmxQ",
    "outputId": "dfefef64-2074-4c5c-a955-aaaf13edc54b"
   },
   "outputs": [
    {
     "name": "stdout",
     "output_type": "stream",
     "text": [
      "Archive:  small_yelp.zip\n",
      "   creating: small/\n",
      "  inflating: small/review_short_tok.json  \n",
      "  inflating: small/test_tok.json     \n",
      "  inflating: small/val_tok.json      \n",
      "  inflating: small/dict_review_short.json  \n",
      "  inflating: small/review_short.json  \n",
      "  inflating: small/train_tok.json    \n"
     ]
    }
   ],
   "source": [
    "!unzip small_yelp.zip"
   ]
  },
  {
   "cell_type": "code",
   "execution_count": 3,
   "metadata": {
    "colab": {
     "base_uri": "https://localhost:8080/"
    },
    "id": "nUb4xgFuEQE5",
    "outputId": "bfb1eff9-8ca5-4456-a712-ef314fc340f1"
   },
   "outputs": [
    {
     "name": "stdout",
     "output_type": "stream",
     "text": [
      "--2021-02-23 23:48:37--  https://www.di.ens.fr/~lelarge/glove.6B.200d.txt.pt\n",
      "Resolving www.di.ens.fr (www.di.ens.fr)... 129.199.99.14\n",
      "Connecting to www.di.ens.fr (www.di.ens.fr)|129.199.99.14|:443... connected.\n",
      "HTTP request sent, awaiting response... 200 OK\n",
      "Length: unspecified [text/plain]\n",
      "Saving to: ‘glove.6B.200d.txt.pt’\n",
      "\n",
      "    [                                 <=>   ] 330,825,607 48.6MB/s   in 6.5s   \n",
      "\n",
      "2021-02-23 23:48:44 (48.5 MB/s) - ‘glove.6B.200d.txt.pt’ saved [330825607]\n",
      "\n"
     ]
    }
   ],
   "source": [
    "!wget https://www.di.ens.fr/~lelarge/glove.6B.200d.txt.pt"
   ]
  },
  {
   "cell_type": "code",
   "execution_count": 4,
   "metadata": {
    "colab": {
     "base_uri": "https://localhost:8080/"
    },
    "id": "wQvWRmA2ZK0R",
    "outputId": "25276b89-ff7c-4055-ef3a-c1266f73b703"
   },
   "outputs": [
    {
     "name": "stdout",
     "output_type": "stream",
     "text": [
      "Cloning into 'self-attentive-sentence-embedding'...\n",
      "remote: Enumerating objects: 30, done.\u001b[K\n",
      "remote: Counting objects: 100% (30/30), done.\u001b[K\n",
      "remote: Compressing objects: 100% (22/22), done.\u001b[K\n",
      "remote: Total 30 (delta 7), reused 20 (delta 4), pack-reused 0\u001b[K\n",
      "Unpacking objects: 100% (30/30), done.\n"
     ]
    }
   ],
   "source": [
    "!git clone https://github.com/dataflowr/self-attentive-sentence-embedding.git"
   ]
  },
  {
   "cell_type": "code",
   "execution_count": 5,
   "metadata": {
    "colab": {
     "base_uri": "https://localhost:8080/"
    },
    "id": "38q_1cU6Z3Fs",
    "outputId": "20018ea6-c74e-48f9-f773-2a7750aa60c9"
   },
   "outputs": [
    {
     "name": "stdout",
     "output_type": "stream",
     "text": [
      "/content/self-attentive-sentence-embedding\n"
     ]
    }
   ],
   "source": [
    "%cd self-attentive-sentence-embedding/"
   ]
  },
  {
   "cell_type": "code",
   "execution_count": 4,
   "metadata": {
    "colab": {
     "base_uri": "https://localhost:8080/"
    },
    "id": "1um1Wb-xZ7Kq",
    "outputId": "74259469-6fc4-488b-abee-27ce0ef47183"
   },
   "outputs": [
    {
     "name": "stdout",
     "output_type": "stream",
     "text": [
      "config.yaml           LICENSE    README.md         \u001b[0m\u001b[01;34msmall\u001b[0m/             train.py\r\n",
      "glove.6B.200d.txt.pt  \u001b[01;34mmodels\u001b[0m/    requirements.txt  \u001b[01;31msmall_yelp.zip\u001b[0m     util.py\r\n",
      "glove_tensors.ipynb   models.py  sase_colab.ipynb  tokenizer-yelp.py\r\n"
     ]
    }
   ],
   "source": [
    "%ls"
   ]
  },
  {
   "cell_type": "code",
   "execution_count": 1,
   "metadata": {
    "colab": {
     "base_uri": "https://localhost:8080/"
    },
    "id": "koVPR1kxZlR5",
    "outputId": "aae0760f-57e4-40f2-d189-8524274603f7"
   },
   "outputs": [
    {
     "name": "stdout",
     "output_type": "stream",
     "text": [
      "Collecting hydra-core\n",
      "  Downloading hydra_core-1.0.6-py3-none-any.whl (123 kB)\n",
      "\u001b[K     |████████████████████████████████| 123 kB 22.9 MB/s eta 0:00:01\n",
      "\u001b[?25hCollecting importlib-resources\n",
      "  Downloading importlib_resources-5.1.0-py3-none-any.whl (24 kB)\n",
      "Requirement already satisfied: omegaconf<2.1,>=2.0.5 in /Data/pls_do_not_delete/miniconda3/envs/inf554/lib/python3.8/site-packages (from hydra-core) (2.0.6)\n",
      "Collecting antlr4-python3-runtime==4.8\n",
      "  Downloading antlr4-python3-runtime-4.8.tar.gz (112 kB)\n",
      "\u001b[K     |████████████████████████████████| 112 kB 22.9 MB/s eta 0:00:01\n",
      "\u001b[?25hRequirement already satisfied: typing-extensions in /Data/pls_do_not_delete/miniconda3/envs/inf554/lib/python3.8/site-packages (from omegaconf<2.1,>=2.0.5->hydra-core) (3.7.4.3)\n",
      "Requirement already satisfied: PyYAML>=5.1.* in /Data/pls_do_not_delete/miniconda3/envs/inf554/lib/python3.8/site-packages (from omegaconf<2.1,>=2.0.5->hydra-core) (5.4.1)\n",
      "Building wheels for collected packages: antlr4-python3-runtime\n",
      "  Building wheel for antlr4-python3-runtime (setup.py) ... \u001b[?25ldone\n",
      "\u001b[?25h  Created wheel for antlr4-python3-runtime: filename=antlr4_python3_runtime-4.8-py3-none-any.whl size=141230 sha256=55ab62668f06d1129892a3e7b5b51ed96f4ec4ad6800a7684bec19dafeeaa999\n",
      "  Stored in directory: /users/eleves-a/2018/jean-charles.layoun/.cache/pip/wheels/c8/d0/ab/d43c02eaddc5b9004db86950802442ad9a26f279c619e28da0\n",
      "Successfully built antlr4-python3-runtime\n",
      "Installing collected packages: importlib-resources, antlr4-python3-runtime, hydra-core\n",
      "Successfully installed antlr4-python3-runtime-4.8 hydra-core-1.0.6 importlib-resources-5.1.0\n"
     ]
    }
   ],
   "source": [
    "!pip install hydra-core"
   ]
  },
  {
   "cell_type": "code",
   "execution_count": 2,
   "metadata": {
    "colab": {
     "base_uri": "https://localhost:8080/"
    },
    "id": "DDZAL29Ca4pT",
    "outputId": "ed21d2bb-f2a8-4b66-8c8f-d296f101a71b",
    "scrolled": true
   },
   "outputs": [
    {
     "name": "stdout",
     "output_type": "stream",
     "text": [
      "{'cuda': True, 'seed': 1111, 'class_number': 5, 'model': {'emsize': 200, 'nhid': 300, 'nlayers': 2, 'attention_unit': 350, 'attention_hops': 4, 'dropout': 0.5, 'clip': 0.5, 'nfc': 300}, 'training': {'lr': 0.001, 'optimizer': 'Adam', 'epochs': 5, 'log_interval': 20, 'batch_size': 50, 'penalization_coeff': 1}, 'data': {'save': '/Data/pls_do_not_delete/Project-self-attentive-sentence-embedding/models/test.pkl', 'dictionary': '/Data/pls_do_not_delete/Project-self-attentive-sentence-embedding/small/dict_review_short.json', 'word_vector': '/Data/pls_do_not_delete/Project-self-attentive-sentence-embedding/content/glove.6B.200d.txt.pt', 'train_data': '/Data/pls_do_not_delete/Project-self-attentive-sentence-embedding/small/train_tok.json', 'val_data': '/Data/pls_do_not_delete/Project-self-attentive-sentence-embedding/small/val_tok.json', 'test_data': '/Data/pls_do_not_delete/Project-self-attentive-sentence-embedding/small/test_tok.json'}}\n",
      "/Data/pls_do_not_delete/Project-self-attentive-sentence-embedding/small/train_tok.json\n",
      "Begin to load the dictionary.\n",
      "Loading word vectors from /Data/pls_do_not_delete/Project-self-attentive-sentence-embedding/content/glove.6B.200d.txt.pt\n",
      "23268 words from external word vectors loaded.\n",
      "Begin to load data.\n",
      "train.py:45: DeprecationWarning: an integer is required (got type float).  Implicit conversion to integers using __int__ is deprecated, and may be removed in a future version of Python.\n",
      "  targets = torch.LongTensor(targets)\n",
      "| epoch   0 |    20/  160 batches | ms/batch 438.72 | loss 3.6051 | pure loss 1.5364\n",
      "| epoch   0 |    40/  160 batches | ms/batch 409.01 | loss 3.2448 | pure loss 1.2751\n",
      "| epoch   0 |    60/  160 batches | ms/batch 410.33 | loss 3.2336 | pure loss 1.2642\n",
      "| epoch   0 |    80/  160 batches | ms/batch 417.38 | loss 3.0564 | pure loss 1.0989\n",
      "| epoch   0 |   100/  160 batches | ms/batch 419.11 | loss 3.0665 | pure loss 1.1277\n",
      "| epoch   0 |   120/  160 batches | ms/batch 389.04 | loss 2.9079 | pure loss 1.1016\n",
      "| epoch   0 |   140/  160 batches | ms/batch 398.70 | loss 2.7813 | pure loss 1.0947\n",
      "-----------------------------------------------------------------------------------------\n",
      "| evaluation | time:  2.66s | valid loss (pure) 0.9828 | Acc   0.5900\n",
      "-----------------------------------------------------------------------------------------\n",
      "| epoch   1 |    20/  160 batches | ms/batch 440.92 | loss 2.3787 | pure loss 1.0565\n",
      "| epoch   1 |    40/  160 batches | ms/batch 414.30 | loss 2.1520 | pure loss 0.9707\n",
      "| epoch   1 |    60/  160 batches | ms/batch 415.89 | loss 2.1916 | pure loss 1.0436\n",
      "| epoch   1 |    80/  160 batches | ms/batch 422.21 | loss 2.0082 | pure loss 0.9201\n",
      "| epoch   1 |   100/  160 batches | ms/batch 423.86 | loss 1.9396 | pure loss 1.0596\n",
      "| epoch   1 |   120/  160 batches | ms/batch 392.60 | loss 1.6302 | pure loss 1.0269\n",
      "| epoch   1 |   140/  160 batches | ms/batch 403.76 | loss 1.4994 | pure loss 0.9707\n",
      "-----------------------------------------------------------------------------------------\n",
      "| evaluation | time:  2.69s | valid loss (pure) 0.9965 | Acc   0.6090\n",
      "-----------------------------------------------------------------------------------------\n",
      "| epoch   2 |    20/  160 batches | ms/batch 446.31 | loss 1.5110 | pure loss 1.0304\n",
      "| epoch   2 |    40/  160 batches | ms/batch 419.15 | loss 1.4106 | pure loss 0.9832\n",
      "| epoch   2 |    60/  160 batches | ms/batch 419.73 | loss 1.3585 | pure loss 0.9299\n",
      "| epoch   2 |    80/  160 batches | ms/batch 426.17 | loss 1.3106 | pure loss 0.8929\n",
      "| epoch   2 |   100/  160 batches | ms/batch 427.94 | loss 1.3960 | pure loss 0.9954\n",
      "| epoch   2 |   120/  160 batches | ms/batch 396.47 | loss 1.4216 | pure loss 1.0162\n",
      "| epoch   2 |   140/  160 batches | ms/batch 404.69 | loss 1.3340 | pure loss 0.9415\n",
      "-----------------------------------------------------------------------------------------\n",
      "| evaluation | time:  2.66s | valid loss (pure) 0.9172 | Acc   0.6180\n",
      "-----------------------------------------------------------------------------------------\n",
      "| epoch   3 |    20/  160 batches | ms/batch 447.91 | loss 1.3423 | pure loss 0.9382\n",
      "| epoch   3 |    40/  160 batches | ms/batch 420.56 | loss 1.2864 | pure loss 0.9096\n",
      "| epoch   3 |    60/  160 batches | ms/batch 420.67 | loss 1.2740 | pure loss 0.8996\n",
      "| epoch   3 |    80/  160 batches | ms/batch 428.18 | loss 1.2358 | pure loss 0.8597\n",
      "| epoch   3 |   100/  160 batches | ms/batch 429.89 | loss 1.3413 | pure loss 0.9627\n",
      "| epoch   3 |   120/  160 batches | ms/batch 397.19 | loss 1.3583 | pure loss 0.9706\n",
      "| epoch   3 |   140/  160 batches | ms/batch 406.34 | loss 1.2536 | pure loss 0.8838\n",
      "-----------------------------------------------------------------------------------------\n",
      "| evaluation | time:  2.68s | valid loss (pure) 0.9605 | Acc   0.6200\n",
      "-----------------------------------------------------------------------------------------\n",
      "| epoch   4 |    20/  160 batches | ms/batch 448.96 | loss 1.3672 | pure loss 0.9676\n",
      "| epoch   4 |    40/  160 batches | ms/batch 420.81 | loss 1.3081 | pure loss 0.9111\n",
      "| epoch   4 |    60/  160 batches | ms/batch 420.98 | loss 1.3013 | pure loss 0.9208\n",
      "| epoch   4 |    80/  160 batches | ms/batch 427.89 | loss 1.2074 | pure loss 0.8303\n",
      "| epoch   4 |   100/  160 batches | ms/batch 430.77 | loss 1.3075 | pure loss 0.9387\n",
      "| epoch   4 |   120/  160 batches | ms/batch 398.41 | loss 1.2546 | pure loss 0.8963\n",
      "| epoch   4 |   140/  160 batches | ms/batch 407.14 | loss 1.2396 | pure loss 0.8822\n",
      "-----------------------------------------------------------------------------------------\n",
      "| evaluation | time:  2.70s | valid loss (pure) 0.8841 | Acc   0.6300\n",
      "-----------------------------------------------------------------------------------------\n"
     ]
    }
   ],
   "source": [
    "!HYDRA_FULL_ERROR=1 python train.py #data.train_data=\"/Data/pls_do_not_delete/Project-self-attentive-sentence-embedding/small/val_tok.json\" data.val_data=\"/Data/pls_do_not_delete/Project-self-attentive-sentence-embedding/small/train_tok.json\" data.test_data=\"/Data/pls_do_not_delete/Project-self-attentive-sentence-embedding/small/test_tok.json\" data.dictionary=\"/Data/pls_do_not_delete/Project-self-attentive-sentence-embedding/small/dict_review_short.json\" data.word_vector=\"/Data/pls_do_not_delete/Project-self-attentive-sentence-embedding/content/glove.6B.200d.txt.pt\" data.save=\"/Data/pls_do_not_delete/Project-self-attentive-sentence-embedding/models/test.pkl\""
   ]
  }
 ],
 "metadata": {
  "accelerator": "GPU",
  "colab": {
   "authorship_tag": "ABX9TyPayo8SmSTgxnOyRDlciu5o",
   "include_colab_link": true,
   "name": "sase_colab.ipynb",
   "provenance": []
  },
  "kernelspec": {
   "display_name": "Python 3",
   "language": "python",
   "name": "python3"
  },
  "language_info": {
   "codemirror_mode": {
    "name": "ipython",
    "version": 3
   },
   "file_extension": ".py",
   "mimetype": "text/x-python",
   "name": "python",
   "nbconvert_exporter": "python",
   "pygments_lexer": "ipython3",
   "version": "3.8.5"
  }
 },
 "nbformat": 4,
 "nbformat_minor": 1
}
