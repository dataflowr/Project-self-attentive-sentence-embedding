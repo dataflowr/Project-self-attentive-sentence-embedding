{
 "cells": [
  {
   "cell_type": "markdown",
   "metadata": {
    "colab_type": "text",
    "id": "view-in-github"
   },
   "source": [
    "<a href=\"https://colab.research.google.com/github/dataflowr/self-attentive-sentence-embedding/blob/master/sase_colab.ipynb\" target=\"_parent\"><img src=\"https://colab.research.google.com/assets/colab-badge.svg\" alt=\"Open In Colab\"/></a>"
   ]
  },
  {
   "cell_type": "code",
   "execution_count": 1,
   "metadata": {
    "colab": {
     "base_uri": "https://localhost:8080/"
    },
    "id": "DV76abP-ase3",
    "outputId": "af10020e-b872-41fe-d60f-5023473e7825"
   },
   "outputs": [
    {
     "name": "stdout",
     "output_type": "stream",
     "text": [
      "--2021-02-23 23:48:27--  https://www.di.ens.fr/~lelarge/small_yelp.zip\n",
      "Resolving www.di.ens.fr (www.di.ens.fr)... 129.199.99.14\n",
      "Connecting to www.di.ens.fr (www.di.ens.fr)|129.199.99.14|:443... connected.\n",
      "HTTP request sent, awaiting response... 200 OK\n",
      "Length: unspecified [application/zip]\n",
      "Saving to: ‘small_yelp.zip’\n",
      "\n",
      "    [  <=>                                  ] 8,533,237   23.9MB/s   in 0.3s   \n",
      "\n",
      "2021-02-23 23:48:28 (23.9 MB/s) - ‘small_yelp.zip’ saved [8533237]\n",
      "\n"
     ]
    }
   ],
   "source": [
    "!wget https://www.di.ens.fr/~lelarge/small_yelp.zip"
   ]
  },
  {
   "cell_type": "code",
   "execution_count": 2,
   "metadata": {
    "colab": {
     "base_uri": "https://localhost:8080/"
    },
    "id": "Hp-XPRlObmxQ",
    "outputId": "dfefef64-2074-4c5c-a955-aaaf13edc54b"
   },
   "outputs": [
    {
     "name": "stdout",
     "output_type": "stream",
     "text": [
      "Archive:  small_yelp.zip\n",
      "   creating: small/\n",
      "  inflating: small/review_short_tok.json  \n",
      "  inflating: small/test_tok.json     \n",
      "  inflating: small/val_tok.json      \n",
      "  inflating: small/dict_review_short.json  \n",
      "  inflating: small/review_short.json  \n",
      "  inflating: small/train_tok.json    \n"
     ]
    }
   ],
   "source": [
    "!unzip small_yelp.zip"
   ]
  },
  {
   "cell_type": "code",
   "execution_count": 3,
   "metadata": {
    "colab": {
     "base_uri": "https://localhost:8080/"
    },
    "id": "nUb4xgFuEQE5",
    "outputId": "bfb1eff9-8ca5-4456-a712-ef314fc340f1"
   },
   "outputs": [
    {
     "name": "stdout",
     "output_type": "stream",
     "text": [
      "--2021-02-23 23:48:37--  https://www.di.ens.fr/~lelarge/glove.6B.200d.txt.pt\n",
      "Resolving www.di.ens.fr (www.di.ens.fr)... 129.199.99.14\n",
      "Connecting to www.di.ens.fr (www.di.ens.fr)|129.199.99.14|:443... connected.\n",
      "HTTP request sent, awaiting response... 200 OK\n",
      "Length: unspecified [text/plain]\n",
      "Saving to: ‘glove.6B.200d.txt.pt’\n",
      "\n",
      "    [                                 <=>   ] 330,825,607 48.6MB/s   in 6.5s   \n",
      "\n",
      "2021-02-23 23:48:44 (48.5 MB/s) - ‘glove.6B.200d.txt.pt’ saved [330825607]\n",
      "\n"
     ]
    }
   ],
   "source": [
    "!wget https://www.di.ens.fr/~lelarge/glove.6B.200d.txt.pt"
   ]
  },
  {
   "cell_type": "code",
   "execution_count": 4,
   "metadata": {
    "colab": {
     "base_uri": "https://localhost:8080/"
    },
    "id": "wQvWRmA2ZK0R",
    "outputId": "25276b89-ff7c-4055-ef3a-c1266f73b703"
   },
   "outputs": [
    {
     "name": "stdout",
     "output_type": "stream",
     "text": [
      "Cloning into 'self-attentive-sentence-embedding'...\n",
      "remote: Enumerating objects: 30, done.\u001b[K\n",
      "remote: Counting objects: 100% (30/30), done.\u001b[K\n",
      "remote: Compressing objects: 100% (22/22), done.\u001b[K\n",
      "remote: Total 30 (delta 7), reused 20 (delta 4), pack-reused 0\u001b[K\n",
      "Unpacking objects: 100% (30/30), done.\n"
     ]
    }
   ],
   "source": [
    "!git clone https://github.com/dataflowr/self-attentive-sentence-embedding.git"
   ]
  },
  {
   "cell_type": "code",
   "execution_count": 5,
   "metadata": {
    "colab": {
     "base_uri": "https://localhost:8080/"
    },
    "id": "38q_1cU6Z3Fs",
    "outputId": "20018ea6-c74e-48f9-f773-2a7750aa60c9"
   },
   "outputs": [
    {
     "name": "stdout",
     "output_type": "stream",
     "text": [
      "/content/self-attentive-sentence-embedding\n"
     ]
    }
   ],
   "source": [
    "%cd self-attentive-sentence-embedding/"
   ]
  },
  {
   "cell_type": "code",
   "execution_count": 15,
   "metadata": {
    "colab": {
     "base_uri": "https://localhost:8080/"
    },
    "id": "1um1Wb-xZ7Kq",
    "outputId": "74259469-6fc4-488b-abee-27ce0ef47183"
   },
   "outputs": [
    {
     "name": "stdout",
     "output_type": "stream",
     "text": [
      "config.yaml          Model_Analysis.ipynb  \u001b[0m\u001b[01;34m__pycache__\u001b[0m/      \u001b[01;34msmall\u001b[0m/\n",
      "\u001b[01;34mcontent\u001b[0m/             \u001b[01;34mmodels\u001b[0m/               README.md         tokenizer-yelp.py\n",
      "glove_tensors.ipynb  models.py             requirements.txt  train.py\n",
      "LICENSE              \u001b[01;34moutputs\u001b[0m/              sase_colab.ipynb  util.py\n"
     ]
    }
   ],
   "source": [
    "%ls"
   ]
  },
  {
   "cell_type": "code",
   "execution_count": 1,
   "metadata": {
    "colab": {
     "base_uri": "https://localhost:8080/"
    },
    "id": "koVPR1kxZlR5",
    "outputId": "aae0760f-57e4-40f2-d189-8524274603f7"
   },
   "outputs": [
    {
     "name": "stdout",
     "output_type": "stream",
     "text": [
      "Collecting hydra-core\n",
      "  Downloading hydra_core-1.0.6-py3-none-any.whl (123 kB)\n",
      "\u001b[K     |████████████████████████████████| 123 kB 22.9 MB/s eta 0:00:01\n",
      "\u001b[?25hCollecting importlib-resources\n",
      "  Downloading importlib_resources-5.1.0-py3-none-any.whl (24 kB)\n",
      "Requirement already satisfied: omegaconf<2.1,>=2.0.5 in /Data/pls_do_not_delete/miniconda3/envs/inf554/lib/python3.8/site-packages (from hydra-core) (2.0.6)\n",
      "Collecting antlr4-python3-runtime==4.8\n",
      "  Downloading antlr4-python3-runtime-4.8.tar.gz (112 kB)\n",
      "\u001b[K     |████████████████████████████████| 112 kB 22.9 MB/s eta 0:00:01\n",
      "\u001b[?25hRequirement already satisfied: typing-extensions in /Data/pls_do_not_delete/miniconda3/envs/inf554/lib/python3.8/site-packages (from omegaconf<2.1,>=2.0.5->hydra-core) (3.7.4.3)\n",
      "Requirement already satisfied: PyYAML>=5.1.* in /Data/pls_do_not_delete/miniconda3/envs/inf554/lib/python3.8/site-packages (from omegaconf<2.1,>=2.0.5->hydra-core) (5.4.1)\n",
      "Building wheels for collected packages: antlr4-python3-runtime\n",
      "  Building wheel for antlr4-python3-runtime (setup.py) ... \u001b[?25ldone\n",
      "\u001b[?25h  Created wheel for antlr4-python3-runtime: filename=antlr4_python3_runtime-4.8-py3-none-any.whl size=141230 sha256=55ab62668f06d1129892a3e7b5b51ed96f4ec4ad6800a7684bec19dafeeaa999\n",
      "  Stored in directory: /users/eleves-a/2018/jean-charles.layoun/.cache/pip/wheels/c8/d0/ab/d43c02eaddc5b9004db86950802442ad9a26f279c619e28da0\n",
      "Successfully built antlr4-python3-runtime\n",
      "Installing collected packages: importlib-resources, antlr4-python3-runtime, hydra-core\n",
      "Successfully installed antlr4-python3-runtime-4.8 hydra-core-1.0.6 importlib-resources-5.1.0\n"
     ]
    }
   ],
   "source": [
    "!pip install hydra-core"
   ]
  },
  {
   "cell_type": "code",
   "execution_count": 1,
   "metadata": {
    "colab": {
     "base_uri": "https://localhost:8080/"
    },
    "id": "DDZAL29Ca4pT",
    "outputId": "ed21d2bb-f2a8-4b66-8c8f-d296f101a71b",
    "scrolled": true
   },
   "outputs": [
    {
     "name": "stdout",
     "output_type": "stream",
     "text": [
      "Traceback (most recent call last):\n",
      "  File \"train.py\", line 2, in <module>\n",
      "    from models import *\n",
      "  File \"/Data/pls_do_not_delete/Project-self-attentive-sentence-embedding/models.py\", line 2, in <module>\n",
      "    import torch\n",
      "ModuleNotFoundError: No module named 'torch'\n"
     ]
    }
   ],
   "source": [
    "!python train.py #data.train_data=\"/Data/pls_do_not_delete/Project-self-attentive-sentence-embedding/small/val_tok.json\" data.val_data=\"/Data/pls_do_not_delete/Project-self-attentive-sentence-embedding/small/train_tok.json\" data.test_data=\"/Data/pls_do_not_delete/Project-self-attentive-sentence-embedding/small/test_tok.json\" data.dictionary=\"/Data/pls_do_not_delete/Project-self-attentive-sentence-embedding/small/dict_review_short.json\" data.word_vector=\"/Data/pls_do_not_delete/Project-self-attentive-sentence-embedding/content/glove.6B.200d.txt.pt\" data.save=\"/Data/pls_do_not_delete/Project-self-attentive-sentence-embedding/models/test.pkl\""
   ]
  }
 ],
 "metadata": {
  "accelerator": "GPU",
  "colab": {
   "authorship_tag": "ABX9TyPayo8SmSTgxnOyRDlciu5o",
   "include_colab_link": true,
   "name": "sase_colab.ipynb",
   "provenance": []
  },
  "kernelspec": {
   "display_name": "Python 3",
   "language": "python",
   "name": "python3"
  },
  "language_info": {
   "codemirror_mode": {
    "name": "ipython",
    "version": 3
   },
   "file_extension": ".py",
   "mimetype": "text/x-python",
   "name": "python",
   "nbconvert_exporter": "python",
   "pygments_lexer": "ipython3",
   "version": "3.8.8"
  }
 },
 "nbformat": 4,
 "nbformat_minor": 4
}
