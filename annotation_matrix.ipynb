{
 "cells": [
  {
   "cell_type": "markdown",
   "id": "recognized-scheduling",
   "metadata": {},
   "source": [
    "# Model analysis and heatmap"
   ]
  },
  {
   "cell_type": "code",
   "execution_count": 1,
   "id": "organizational-migration",
   "metadata": {},
   "outputs": [],
   "source": [
    "import numpy as np\n",
    "import pandas as pd\n",
    "import torch\n",
    "import json\n",
    "import spacy\n",
    "from prettytable import PrettyTable\n",
    "import os\n",
    "import sys\n",
    "import yaml\n",
    "from yaml import Loader\n",
    "from util import Dictionary\n",
    "\n",
    "\n",
    "## Importing the local .py file\n",
    "import plot_annotation_matrix as pa\n"
   ]
  },
  {
   "cell_type": "markdown",
   "id": "drawn-cooperative",
   "metadata": {},
   "source": [
    "#### We store the useful data:"
   ]
  },
  {
   "cell_type": "markdown",
   "id": "lucky-blake",
   "metadata": {},
   "source": [
    "The useful data is a list of dictionnaries with 5 fields:\n",
    "\n",
    "| Name Of Field | percentage_correct_pred                        | label                           | prediction                                   | attention                                       | text                    |\n",
    "|---------------|------------------------------------------------|---------------------------------|----------------------------------------------|-------------------------------------------------|-------------------------|\n",
    "| Type          | float                                          | list of ints                    | list of ints                                 | list of floats                                  | list of list of strings |\n",
    "| Desc          | Percentage of correct prediction on this batch | The true rating for each review | The prediction of the rating for each review | The value of the attention matrix for the batch | The reviews in text     |\n"
   ]
  },
  {
   "cell_type": "code",
   "execution_count": 2,
   "id": "formal-period",
   "metadata": {},
   "outputs": [],
   "source": [
    "data = np.load(\"content/useful_data.npy\", allow_pickle=True)"
   ]
  },
  {
   "cell_type": "code",
   "execution_count": 3,
   "id": "minimal-implementation",
   "metadata": {},
   "outputs": [
    {
     "name": "stdout",
     "output_type": "stream",
     "text": [
      "percentage_correct_preddata 0 0.66\n",
      "percentage_correct_preddata 1 0.56\n",
      "percentage_correct_preddata 2 0.6\n",
      "percentage_correct_preddata 3 0.6\n",
      "percentage_correct_preddata 4 0.54\n",
      "percentage_correct_preddata 5 0.66\n",
      "percentage_correct_preddata 6 0.58\n",
      "percentage_correct_preddata 7 0.74\n",
      "percentage_correct_preddata 8 0.58\n",
      "percentage_correct_preddata 9 0.6\n",
      "percentage_correct_preddata 10 0.78\n",
      "percentage_correct_preddata 11 0.86\n",
      "percentage_correct_preddata 12 0.6\n",
      "percentage_correct_preddata 13 0.58\n",
      "percentage_correct_preddata 14 0.58\n",
      "percentage_correct_preddata 15 0.56\n",
      "percentage_correct_preddata 16 0.6\n",
      "percentage_correct_preddata 17 0.76\n",
      "percentage_correct_preddata 18 0.58\n",
      "percentage_correct_preddata 19 0.58\n"
     ]
    }
   ],
   "source": [
    "for i in range(20):\n",
    "    print('percentage_correct_preddata', i, data[i]['percentage_correct_pred'])"
   ]
  },
  {
   "cell_type": "code",
   "execution_count": 4,
   "id": "driven-walnut",
   "metadata": {},
   "outputs": [
    {
     "data": {
      "text/plain": [
       "array([4, 0, 1, 4, 3, 4, 3, 4, 4, 4, 4, 4, 3, 4, 4, 3, 4, 4, 3, 4, 2, 0,\n",
       "       4, 4, 3, 4, 2, 4, 4, 4, 4, 2, 3, 3, 3, 3, 4, 4, 4, 0, 3, 2, 1, 4,\n",
       "       4, 3, 4, 4, 4, 2])"
      ]
     },
     "execution_count": 4,
     "metadata": {},
     "output_type": "execute_result"
    }
   ],
   "source": [
    "data[11]['label']"
   ]
  },
  {
   "cell_type": "code",
   "execution_count": 5,
   "id": "stainless-envelope",
   "metadata": {},
   "outputs": [
    {
     "data": {
      "text/plain": [
       "array([4, 4, 0, 4, 3, 4, 3, 4, 4, 4, 4, 4, 3, 4, 4, 4, 4, 4, 3, 4, 2, 0,\n",
       "       4, 4, 3, 4, 2, 4, 4, 4, 4, 1, 3, 3, 3, 3, 4, 4, 4, 0, 4, 4, 2, 4,\n",
       "       4, 3, 4, 4, 4, 2])"
      ]
     },
     "execution_count": 5,
     "metadata": {},
     "output_type": "execute_result"
    }
   ],
   "source": [
    "data[11]['prediction']"
   ]
  },
  {
   "cell_type": "code",
   "execution_count": 6,
   "id": "fifth-dependence",
   "metadata": {},
   "outputs": [
    {
     "data": {
      "text/plain": [
       "4    32\n",
       "3    10\n",
       "2     4\n",
       "0     3\n",
       "1     1\n",
       "dtype: int64"
      ]
     },
     "execution_count": 6,
     "metadata": {},
     "output_type": "execute_result"
    }
   ],
   "source": [
    "pd.DataFrame(data[11]['prediction']).value_counts()"
   ]
  },
  {
   "cell_type": "code",
   "execution_count": 7,
   "id": "strong-accident",
   "metadata": {},
   "outputs": [
    {
     "data": {
      "text/plain": [
       "4    28\n",
       "3    12\n",
       "2     5\n",
       "0     3\n",
       "1     2\n",
       "dtype: int64"
      ]
     },
     "execution_count": 7,
     "metadata": {},
     "output_type": "execute_result"
    }
   ],
   "source": [
    "pd.DataFrame(data[11]['label']).value_counts()"
   ]
  },
  {
   "cell_type": "code",
   "execution_count": 10,
   "id": "supported-official",
   "metadata": {},
   "outputs": [],
   "source": [
    "attention = None\n",
    "for i in range(50):\n",
    "    text = data[11]['text'][i]\n",
    "    text = pa.clean_word(text)\n",
    "    taille = len(text)\n",
    "    if(taille<500):\n",
    "        attention = pd.DataFrame(data[11]['attention'][i])\n",
    "        attention = attention[[j for j in range(taille)]].sum(axis=0)\n",
    "        attention = pa.rescale(attention)\n",
    "        attention = np.array(attention)\n",
    "        #attention[attention<1]=0\n",
    "        pa.generate(text, attention, \"heatmaps/sample{}.tex\".format(i),label=data[11]['label'][i], prediction=data[11]['prediction'][i])"
   ]
  },
  {
   "cell_type": "code",
   "execution_count": 15,
   "id": "wicked-response",
   "metadata": {},
   "outputs": [
    {
     "data": {
      "text/plain": [
       "6.779614381492279"
      ]
     },
     "execution_count": 15,
     "metadata": {},
     "output_type": "execute_result"
    }
   ],
   "source": [
    "attention"
   ]
  }
 ],
 "metadata": {
  "kernelspec": {
   "display_name": "Python 3",
   "language": "python",
   "name": "python3"
  },
  "language_info": {
   "codemirror_mode": {
    "name": "ipython",
    "version": 3
   },
   "file_extension": ".py",
   "mimetype": "text/x-python",
   "name": "python",
   "nbconvert_exporter": "python",
   "pygments_lexer": "ipython3",
   "version": "3.8.5"
  }
 },
 "nbformat": 4,
 "nbformat_minor": 5
}
