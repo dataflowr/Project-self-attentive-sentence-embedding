{
 "cells": [
  {
   "cell_type": "markdown",
   "id": "upper-moderator",
   "metadata": {},
   "source": [
    "# Model analysis and heatmap"
   ]
  },
  {
   "cell_type": "code",
   "execution_count": 1,
   "id": "artistic-civilization",
   "metadata": {},
   "outputs": [],
   "source": [
    "import numpy as np\n",
    "import pandas as pd\n",
    "import torch\n",
    "import json\n",
    "import spacy\n",
    "from prettytable import PrettyTable\n",
    "import os\n",
    "import sys\n",
    "import yaml\n",
    "from yaml import Loader\n",
    "from util import Dictionary\n",
    "\n",
    "\n",
    "## Importing the local .py file\n",
    "import plot_annotation_matrix as pa\n"
   ]
  },
  {
   "cell_type": "markdown",
   "id": "personal-calibration",
   "metadata": {},
   "source": [
    "#### We store the useful data:"
   ]
  },
  {
   "cell_type": "markdown",
   "id": "historic-democracy",
   "metadata": {},
   "source": [
    "The useful data is a list of dictionnaries with 5 fields:\n",
    "\n",
    "| Name Of Field | percentage_correct_pred                        | label                           | prediction                                   | attention                                       | text                    |\n",
    "|---------------|------------------------------------------------|---------------------------------|----------------------------------------------|-------------------------------------------------|-------------------------|\n",
    "| Type          | float                                          | list of ints                    | list of ints                                 | list of floats                                  | list of list of strings |\n",
    "| Desc          | Percentage of correct prediction on this batch | The true rating for each review | The prediction of the rating for each review | The value of the attention matrix for the batch | The reviews in text     |\n"
   ]
  },
  {
   "cell_type": "code",
   "execution_count": 2,
   "id": "regular-pennsylvania",
   "metadata": {},
   "outputs": [],
   "source": [
    "data = np.load(\"content/useful_data.npy\", allow_pickle=True)"
   ]
  },
  {
   "cell_type": "code",
   "execution_count": 3,
   "id": "naked-madrid",
   "metadata": {},
   "outputs": [
    {
     "name": "stdout",
     "output_type": "stream",
     "text": [
      "percentage_correct_preddata 0 0.66\n",
      "percentage_correct_preddata 1 0.56\n",
      "percentage_correct_preddata 2 0.6\n",
      "percentage_correct_preddata 3 0.6\n",
      "percentage_correct_preddata 4 0.54\n",
      "percentage_correct_preddata 5 0.66\n",
      "percentage_correct_preddata 6 0.58\n",
      "percentage_correct_preddata 7 0.74\n",
      "percentage_correct_preddata 8 0.58\n",
      "percentage_correct_preddata 9 0.6\n",
      "percentage_correct_preddata 10 0.78\n",
      "percentage_correct_preddata 11 0.86\n",
      "percentage_correct_preddata 12 0.6\n",
      "percentage_correct_preddata 13 0.58\n",
      "percentage_correct_preddata 14 0.58\n",
      "percentage_correct_preddata 15 0.56\n",
      "percentage_correct_preddata 16 0.6\n",
      "percentage_correct_preddata 17 0.76\n",
      "percentage_correct_preddata 18 0.58\n",
      "percentage_correct_preddata 19 0.58\n"
     ]
    }
   ],
   "source": [
    "for i in range(20):\n",
    "    print('percentage_correct_preddata', i, data[i]['percentage_correct_pred'])"
   ]
  },
  {
   "cell_type": "code",
   "execution_count": 4,
   "id": "unexpected-cheese",
   "metadata": {},
   "outputs": [
    {
     "data": {
      "text/plain": [
       "array([4, 0, 1, 4, 3, 4, 3, 4, 4, 4, 4, 4, 3, 4, 4, 3, 4, 4, 3, 4, 2, 0,\n",
       "       4, 4, 3, 4, 2, 4, 4, 4, 4, 2, 3, 3, 3, 3, 4, 4, 4, 0, 3, 2, 1, 4,\n",
       "       4, 3, 4, 4, 4, 2])"
      ]
     },
     "execution_count": 4,
     "metadata": {},
     "output_type": "execute_result"
    }
   ],
   "source": [
    "data[11]['label']"
   ]
  },
  {
   "cell_type": "code",
   "execution_count": 5,
   "id": "permanent-malawi",
   "metadata": {},
   "outputs": [
    {
     "data": {
      "text/plain": [
       "array([4, 4, 0, 4, 3, 4, 3, 4, 4, 4, 4, 4, 3, 4, 4, 4, 4, 4, 3, 4, 2, 0,\n",
       "       4, 4, 3, 4, 2, 4, 4, 4, 4, 1, 3, 3, 3, 3, 4, 4, 4, 0, 4, 4, 2, 4,\n",
       "       4, 3, 4, 4, 4, 2])"
      ]
     },
     "execution_count": 5,
     "metadata": {},
     "output_type": "execute_result"
    }
   ],
   "source": [
    "data[11]['prediction']"
   ]
  },
  {
   "cell_type": "code",
   "execution_count": 6,
   "id": "saving-diameter",
   "metadata": {},
   "outputs": [
    {
     "data": {
      "text/plain": [
       "4    32\n",
       "3    10\n",
       "2     4\n",
       "0     3\n",
       "1     1\n",
       "dtype: int64"
      ]
     },
     "execution_count": 6,
     "metadata": {},
     "output_type": "execute_result"
    }
   ],
   "source": [
    "pd.DataFrame(data[11]['prediction']).value_counts()"
   ]
  },
  {
   "cell_type": "code",
   "execution_count": 7,
   "id": "useful-finland",
   "metadata": {},
   "outputs": [
    {
     "data": {
      "text/plain": [
       "4    28\n",
       "3    12\n",
       "2     5\n",
       "0     3\n",
       "1     2\n",
       "dtype: int64"
      ]
     },
     "execution_count": 7,
     "metadata": {},
     "output_type": "execute_result"
    }
   ],
   "source": [
    "pd.DataFrame(data[11]['label']).value_counts()"
   ]
  },
  {
   "cell_type": "code",
   "execution_count": 8,
   "id": "legislative-peace",
   "metadata": {},
   "outputs": [],
   "source": [
    "attention = None\n",
    "for i in range(50):\n",
    "    text = data[11]['text'][i]\n",
    "    text = pa.clean_word(text)\n",
    "    taille = len(text)\n",
    "    if(taille<500):\n",
    "        attention = pd.DataFrame(data[11]['attention'][i])\n",
    "        attention = attention[[j for j in range(taille)]].sum(axis=0)\n",
    "        attention = pa.rescale(attention)\n",
    "        attention = np.array(attention)\n",
    "        #attention[attention<1]=0\n",
    "        pa.generate(text, attention, \"heatmaps/sample{}.tex\".format(i),label=data[11]['label'][i], prediction=data[11]['prediction'][i])"
   ]
  },
  {
   "cell_type": "code",
   "execution_count": 9,
   "id": "powered-globe",
   "metadata": {},
   "outputs": [
    {
     "data": {
      "text/plain": [
       "array([6.55447093e-06, 6.65515671e+01, 2.94320278e+01, 1.35551900e-01,\n",
       "       1.47940156e-07, 3.15557719e-10, 1.00000000e+02, 9.98578873e+01,\n",
       "       3.40661407e-02, 4.01927614e+00, 1.53042572e-06, 1.30460949e-08,\n",
       "       4.66018605e-07, 3.78496838e-06, 1.85829041e-08, 2.33820941e-07,\n",
       "       5.52758320e-06, 2.53599546e-06, 3.18948388e-08, 1.11881384e-08,\n",
       "       6.64998788e-06, 6.20091285e-08, 6.81581355e-07, 6.05844974e-08,\n",
       "       1.06690038e-07, 7.19324526e-05, 1.21802132e-05, 3.40697170e-07,\n",
       "       1.26076301e-07, 6.34069750e-07, 5.04323168e-07, 4.74291227e-07,\n",
       "       1.65380987e-09, 0.00000000e+00, 6.83726356e-08, 1.18540981e-06,\n",
       "       2.70050915e-09, 5.06845943e-08, 1.34527212e-09, 3.49992852e-08,\n",
       "       2.85037549e-06, 9.23593342e-03, 8.58236926e-10, 1.61679858e-09,\n",
       "       7.23675129e-08, 9.99559326e+01, 5.60607838e-10, 4.00413825e-07,\n",
       "       1.53217491e-06, 8.00950602e-07, 1.90215090e-07, 4.52599634e-04,\n",
       "       9.91841944e-07, 2.65643780e-06, 3.06790149e-10, 3.61169214e-07,\n",
       "       1.03303930e-03, 7.86894161e-05, 1.34704851e-05])"
      ]
     },
     "execution_count": 9,
     "metadata": {},
     "output_type": "execute_result"
    }
   ],
   "source": [
    "attention"
   ]
  }
 ],
 "metadata": {
  "kernelspec": {
   "display_name": "Python 3",
   "language": "python",
   "name": "python3"
  },
  "language_info": {
   "codemirror_mode": {
    "name": "ipython",
    "version": 3
   },
   "file_extension": ".py",
   "mimetype": "text/x-python",
   "name": "python",
   "nbconvert_exporter": "python",
   "pygments_lexer": "ipython3",
   "version": "3.8.8"
  }
 },
 "nbformat": 4,
 "nbformat_minor": 5
}
